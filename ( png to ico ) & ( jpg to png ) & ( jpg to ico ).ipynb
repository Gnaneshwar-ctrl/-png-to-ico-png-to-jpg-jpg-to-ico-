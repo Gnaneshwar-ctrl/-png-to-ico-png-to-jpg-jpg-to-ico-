{
 "cells": [
  {
   "cell_type": "code",
   "execution_count": 1,
   "metadata": {},
   "outputs": [],
   "source": [
    "from PIL import Image\\\n",
    "n = int(input(\"choose 1 for\"))"
   ]
  },
  {
   "cell_type": "code",
   "execution_count": null,
   "metadata": {},
   "outputs": [],
   "source": [
    "if(n == 1):\n",
    "    filename = r'TEST.PNG'\n",
    "    img = Image.open(filename)\n",
    "    img.save('/Users/../../test.ico')"
   ]
  },
  {
   "cell_type": "code",
   "execution_count": null,
   "metadata": {},
   "outputs": [],
   "source": [
    "if(n == 2):\n",
    "    img = Image.open('Foto.jpg')\n",
    "    img.save('Foto.png')"
   ]
  },
  {
   "cell_type": "code",
   "execution_count": null,
   "metadata": {},
   "outputs": [],
   "source": [
    "if(n == 3):\n",
    "    img = Image.open('Test.jpg')\n",
    "    img.save('/Users/../../test.ico')"
   ]
  }
 ],
 "metadata": {
  "kernelspec": {
   "display_name": "Python 3",
   "language": "python",
   "name": "python3"
  },
  "language_info": {
   "codemirror_mode": {
    "name": "ipython",
    "version": 3
   },
   "file_extension": ".py",
   "mimetype": "text/x-python",
   "name": "python",
   "nbconvert_exporter": "python",
   "pygments_lexer": "ipython3",
   "version": "3.8.3"
  }
 },
 "nbformat": 4,
 "nbformat_minor": 4
}
